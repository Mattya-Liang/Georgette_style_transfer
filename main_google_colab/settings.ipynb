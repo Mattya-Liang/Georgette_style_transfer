{
 "cells": [
  {
   "cell_type": "code",
   "execution_count": null,
   "id": "7e0cefdd-19a4-4000-a2ec-12cb6349897c",
   "metadata": {},
   "outputs": [],
   "source": [
    "# %load settings.py\n",
    "# @File    : settings.py\n",
    "# @Author  : AaronJny\n",
    "# @Time    : 2020/03/13\n",
    "# @Desc    :\n",
    "\n",
    "# 以防我忘记了\n",
    "\n",
    "# Model采用的是VGG19，这里定义了VGG19的各层名称\n",
    "# VGG的层数越低，提取的是图片的低层特征，如边缘等；层数越高，提取的是图片的高层特征，如纹理等\n",
    "# 要根据Style的风格去选择合适的层，比如选择靠前的层，提取的是图片的低层特征，这样生成的图片会更加清晰；选择靠后的层，提取的是图片的高层特征，这样生成的图片会更加抽象\n",
    "# VGG19一共有5个卷积块，每个卷积块有2-4个卷积层，一共是 19 层\n",
    "# 第一个卷积块有2个卷积层，第二个卷积块有2个卷积层，第三个卷积块有4个卷积层，第四个卷积块有4个卷积层，第五个卷积块有4个卷积层\n",
    "# VGG19的卷积层的名称是这样的：block{卷积块编号}_conv{卷积层编号}\n",
    "# 第一个卷积层提取的是图片的低层特征，第五个卷积层提取的是图片的高层特征\n",
    "# 这里的CONTENT_LAYERS和STYLE_LAYERS是用来定义内容图片和风格图片分别采用的VGG层\n",
    "# CONTENT_LAYERS的加权系数意味着在计算内容loss时，不同层的特征对loss的影响程度\n",
    "# 这里我们默认为block4_conv2和block5_conv2，这两层是VGG19的最后两层卷积层，越往后的卷基层提取的特征越抽象"
   ]
  },
  {
   "cell_type": "code",
   "execution_count": null,
   "id": "39bac130-e83f-4ad2-9985-dcea925cd518",
   "metadata": {},
   "outputs": [],
   "source": [
    "# 关于VGG19的更多信息，可以参考：https://arxiv.org/abs/1409.1556"
   ]
  },
  {
   "cell_type": "code",
   "execution_count": null,
   "id": "a9b256dc-48e0-4973-bc04-d29ad5fb28aa",
   "metadata": {},
   "outputs": [],
   "source": []
  },
  {
   "cell_type": "code",
   "execution_count": null,
   "id": "8cda9199-ba1f-44d8-adf3-7a7b23dd8388",
   "metadata": {},
   "outputs": [],
   "source": [
    "import os"
   ]
  },
  {
   "cell_type": "code",
   "execution_count": null,
   "id": "60b4b00d-ffe1-443d-909a-4ca5f5e4ee92",
   "metadata": {},
   "outputs": [],
   "source": [
    "# 内容特征层及loss加权系数\n",
    "CONTENT_LAYERS = {'block4_conv2': 0.8, 'block5_conv2': 0.2}\n",
    "\n",
    "# 风格特征层及loss加权系数\n",
    "# STYLE_LAYERS = {'block1_conv1': 0.25, \n",
    "#                 'block2_conv1': 0.25, \n",
    "#                 'block3_conv1': 0.2, \n",
    "#                 'block4_conv1': 0.2, \n",
    "#                 'block5_conv1': 0.1}\n",
    "STYLE_LAYERS = {\n",
    "    'block1_conv1': 0.3,    # 增加低层权重，捕捉线条\n",
    "    'block2_conv1': 0.3,    # 增加中低层权重，捕捉纹理\n",
    "    'block3_conv1': 0.2,    # 保持中层权重\n",
    "    'block4_conv1': 0.15,   # 降低高层权重\n",
    "    'block5_conv1': 0.05    # 降低最高层权重\n",
    "    }\n",
    "\n",
    "# 内容loss总加权系数\n",
    "CONTENT_LOSS_FACTOR = 3\n",
    "# 风格loss总加权系数\n",
    "STYLE_LOSS_FACTOR = 70\n",
    "\n",
    "# 图片宽度\n",
    "WIDTH = 512\n",
    "# 图片高度\n",
    "HEIGHT = 512\n",
    "\n",
    "# 在settings.py中定义目标图像尺寸\n",
    "STYLE_IMAGE_HEIGHT = 1008  # 或者你需要的其他高度\n",
    "STYLE_IMAGE_WIDTH = 756   # 或者你需要的其他宽度\n",
    "# 在settings.py中添加\n",
    "\n",
    "# 图像预处理参数\n",
    "IMAGE_PREPROCESSING = {\n",
    "    'target_size': (HEIGHT, WIDTH),  # 目标尺寸\n",
    "    'preserve_aspect_ratio': True,   # 保持宽高比\n",
    "    'interpolation': 'bilinear'      # 插值方法\n",
    "}\n",
    "\n",
    "# 训练epoch数\n",
    "EPOCHS = 5\n",
    "# 每个epoch训练多少次\n",
    "STEPS_PER_EPOCH = 300\n",
    "# 学习率\n",
    "LEARNING_RATE = 0.00008\n",
    "\n",
    "# 内容图片路径\n",
    "CONTENT_IMAGE_PATH = r'C:\\Users\\12978\\Desktop\\Model Selection\\DeepLearningExamples-master\\tf2-neural-style-transfer\\images\\train_photo.jpg'\n",
    "\n",
    "# 风格图片路径\n",
    "\n",
    "# 单一照片\n",
    "# STYLE_IMAGE_PATH = 'C:\\\\Users\\\\12978\\\\Desktop\\\\Model Selection\\\\DeepLearningExamples-master\\\\tf2-neural-style-transfer\\\\images\\\\微信图片_20250115153546.png'\n",
    "\n",
    "# 多张照片（存储在一个固定文件夹中）\n",
    "\n",
    "# 在settings.py中定义风格图片文件夹路径\n",
    "STYLE_IMAGE_DIR_PATHS = r\"C:\\Users\\12978\\Desktop\\Model Selection\\DeepLearningExamples-master\\tf2-neural-style-transfer\\style_data\"\n",
    "\n",
    "output_folder_name = f\"content_{CONTENT_LOSS_FACTOR} style_{STYLE_LOSS_FACTOR} output_lr{LEARNING_RATE} epochs{EPOCHS}\"\n",
    "# 生成图片的保存目录\n",
    "# OUTPUT_DIR = r'C:\\Users\\12978\\Desktop\\Model Selection\\DeepLearningExamples-master\\tf2-neural-style-transfer\\output_images'\n",
    "OUTPUT_DIR = os.path.join(r'C:\\Users\\12978\\Desktop\\Model Selection\\DeepLearningExamples-master\\tf2-neural-style-transfer\\output_images', output_folder_name)"
   ]
  }
 ],
 "metadata": {
  "kernelspec": {
   "display_name": "Python 3 (ipykernel)",
   "language": "python",
   "name": "python3"
  },
  "language_info": {
   "codemirror_mode": {
    "name": "ipython",
    "version": 3
   },
   "file_extension": ".py",
   "mimetype": "text/x-python",
   "name": "python",
   "nbconvert_exporter": "python",
   "pygments_lexer": "ipython3",
   "version": "3.12.7"
  }
 },
 "nbformat": 4,
 "nbformat_minor": 5
}
