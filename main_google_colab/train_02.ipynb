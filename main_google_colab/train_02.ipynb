{
 "cells": [
  {
   "cell_type": "code",
   "execution_count": null,
   "id": "d8f39128-1e39-4b61-8bca-577b7b60ffcb",
   "metadata": {},
   "outputs": [],
   "source": [
    "# %load train_02.py\n",
    "# @File    : train.py\n",
    "# @Author  : AaronJny\n",
    "# @Time    : 2020/03/13\n",
    "# @Desc    :\n",
    "import os\n",
    "from PIL import Image\n",
    "import numpy as np\n",
    "from tqdm import tqdm\n",
    "import tensorflow as tf\n",
    "from model import NeuralStyleTransferModel\n",
    "import settings\n",
    "import utils"
   ]
  },
  {
   "cell_type": "code",
   "execution_count": null,
   "id": "06195783-62a0-4a22-ac28-3871de6d6162",
   "metadata": {},
   "outputs": [],
   "source": [
    "# 创建模型\n",
    "model = NeuralStyleTransferModel()\n",
    "\n",
    "# 加载内容图片（需要被风格迁移化的照片）\n",
    "content_image = utils.load_images(settings.CONTENT_IMAGE_PATH)"
   ]
  },
  {
   "cell_type": "code",
   "execution_count": null,
   "id": "5f6dbbac-3921-41a9-82dc-55208a595cca",
   "metadata": {},
   "outputs": [],
   "source": [
    "# 加载风格图片 每次更改要记得在setting.py里面进行修改路径"
   ]
  },
  {
   "cell_type": "code",
   "execution_count": null,
   "id": "3755eeec-d2dc-4a53-be5c-a647b27814c5",
   "metadata": {},
   "outputs": [],
   "source": [
    "# 单一图像\n",
    "# style_image = utils.load_images(settings.STYLE_IMAGE_PATH)\n",
    "\n",
    "# 加载文件夹中的所有图片\n",
    "\n",
    "# def load_images_from_dir(dir_path):\n",
    "#     image_paths = [os.path.join(dir_path, fname) for fname in os.listdir(dir_path)\n",
    "#                    if fname.lower().endswith(('png', 'jpg', 'jpeg', 'bmp'))]\n",
    "#     images = [Image.open(path) for path in image_paths]\n",
    "#     return images"
   ]
  },
  {
   "cell_type": "code",
   "execution_count": null,
   "id": "28a74638-aec6-40c4-b887-3289c552d15b",
   "metadata": {},
   "outputs": [],
   "source": []
  },
  {
   "cell_type": "code",
   "execution_count": null,
   "id": "74cfabe5-78a5-4de9-b638-aca44b481c9d",
   "metadata": {},
   "outputs": [],
   "source": [
    "def load_images_from_dir(dir_path):\n",
    "    image_paths = [os.path.join(dir_path, fname) for fname in os.listdir(dir_path)\n",
    "                   if fname.lower().endswith(('png', 'jpg', 'jpeg', 'bmp'))]\n",
    "    \n",
    "    processed_images = []\n",
    "    for path in image_paths:\n",
    "        # 使用 utils.load_images 处理每张图片\n",
    "        processed_image = utils.load_images(path)\n",
    "        processed_images.append(processed_image)\n",
    "    \n",
    "    return processed_images\n",
    "\n",
    "# 获取风格图片的路径列表\n",
    "style_images = load_images_from_dir(settings.STYLE_IMAGE_DIR_PATHS)\n",
    "\n",
    "# 多张图像（存储在一个固定文件夹中）\n",
    "# style_images = [utils.load_images(path) for path in settings.STYLE_IMAGE_DIR_PATHS]\n",
    "\n",
    "# 计算出目标内容图片的内容特征备用\n",
    "target_content_features = model([content_image, ])['content']"
   ]
  },
  {
   "cell_type": "code",
   "execution_count": null,
   "id": "b9f65e8e-6298-48ea-a2f9-6bc81ff05fcf",
   "metadata": {},
   "outputs": [],
   "source": [
    "# 计算目标风格图片的风格特征"
   ]
  },
  {
   "cell_type": "code",
   "execution_count": null,
   "id": "9d8e69c6-05c8-4cec-9ad0-16f83a7c00e7",
   "metadata": {},
   "outputs": [],
   "source": [
    "# 单一图像\n",
    "# target_style_features = model([style_image, ])['style']\n",
    "\n",
    "# 多张图像（存储在一个固定文件夹中）\n",
    "# target_style_features = [model([style_image, ])['style'] for style_image in style_images]\n",
    "target_style_features = []\n",
    "for style_image in style_images:\n",
    "    style_features = model(style_image)['style']\n",
    "    target_style_features.append(style_features)"
   ]
  },
  {
   "cell_type": "code",
   "execution_count": null,
   "id": "470d16b0-f158-436f-bfce-d063568910e5",
   "metadata": {},
   "outputs": [],
   "source": [
    "# 这里的M和N是图片的宽高乘积和通道数，用于计算内容loss和风格loss时的系数\n",
    "# M代表图片的宽高乘积，可以改变参数去调整图片的大小，这里默认为450*300，可以改动Setting.py里的WIDTH和HEIGHT去改变图片大小\n",
    "# N代表图片的通道数，也就是图片的深度，比如RGB图片的通道数就是3"
   ]
  },
  {
   "cell_type": "code",
   "execution_count": null,
   "id": "bd83e88e-3687-4c79-82d5-a62808c89e85",
   "metadata": {},
   "outputs": [],
   "source": [
    "M = settings.WIDTH * settings.HEIGHT\n",
    "N = 3"
   ]
  },
  {
   "cell_type": "code",
   "execution_count": null,
   "id": "917d240d-2acd-4f47-aca8-290193da289c",
   "metadata": {},
   "outputs": [],
   "source": [
    "# 我们现在计算Content Loss和Style Loss\n",
    "# Content Loss是目标图片和生成图片在某一层的特征之间的MSE，MSE越小，说明两者的内容越接近\n",
    "# Style Loss是目标图片和生成图片在某一层的特征之间的Gram Matrix之间的MSE，Gram Matrix是特征之间的相关性，MSE越小，说明两者的风格越接近\n",
    "# 我们想要生成的图片，内容和目标图片一样，风格和目标图片一样，所以我们的目标是最小化Content Loss和Style Loss\n",
    "# Content Loss 和 Style Loss 的加权系数可以自己调整，不同的加权系数会生成不同的风格图片\n",
    "# Content Loss 和 Style Loss 的加权系数越大，生成的图片越接近目标图片，但是也会导致过拟合\n",
    "# Content Loss 和 Style Loss 之间存在关系，关系是Content Loss 和 Style Loss 之间的数值差距，数值差距越大，生成的图片越不接近目标图片\n",
    "# 所以我们需要在Content Loss 和 Style Loss 之间取得平衡，使得数值差距不要太大，也不要太小"
   ]
  },
  {
   "cell_type": "code",
   "execution_count": null,
   "id": "ca1e3267-3feb-433f-9a02-45d167858101",
   "metadata": {},
   "outputs": [],
   "source": [
    "# Content 部分：\n",
    "# 这个部分不需要改动，我们只会将所有风格迁移到一张照片上\n",
    "# 从line 55 到line 88 是计算内容图片的内容loss，无需进行较大的修改"
   ]
  },
  {
   "cell_type": "code",
   "execution_count": null,
   "id": "c04f7418-5119-48ef-b9db-3dcb5c334d95",
   "metadata": {},
   "outputs": [],
   "source": [
    "# 计算出目标内容图片的内容特征备用"
   ]
  },
  {
   "cell_type": "code",
   "execution_count": null,
   "id": "f25a8389-a576-4278-a143-e141a2de4817",
   "metadata": {},
   "outputs": [],
   "source": [
    "def _compute_content_loss(noise_features, target_features):\n",
    "    \"\"\"\n",
    "    计算指定层上两个特征之间的内容loss\n",
    "    :param noise_features: 噪声图片在指定层的特征\n",
    "    :param target_features: 内容图片在指定层的特征\n",
    "    \"\"\"\n",
    "    content_loss = tf.reduce_sum(tf.square(noise_features - target_features))\n",
    "    # 计算系数\n",
    "    x = 2. * M * N\n",
    "    content_loss = content_loss / x\n",
    "    return content_loss"
   ]
  },
  {
   "cell_type": "code",
   "execution_count": null,
   "id": "89b2b8d0-f115-455d-b588-6650a9e72f45",
   "metadata": {},
   "outputs": [],
   "source": [
    "# 计算并当前图片的内容loss"
   ]
  },
  {
   "cell_type": "code",
   "execution_count": null,
   "id": "e95f1171-6a02-4bcc-9135-2d1877cbb873",
   "metadata": {},
   "outputs": [],
   "source": [
    "def compute_content_loss(noise_content_features):\n",
    "    \"\"\"\n",
    "    计算并当前图片的内容loss\n",
    "    :param noise_content_features: 噪声图片的内容特征\n",
    "    \"\"\"\n",
    "    # 初始化内容损失\n",
    "    content_losses = []\n",
    "    # 加权计算内容损失\n",
    "    for (noise_feature, factor), (target_feature, _) in zip(noise_content_features, target_content_features):\n",
    "        layer_content_loss = _compute_content_loss(noise_feature, target_feature)\n",
    "        content_losses.append(layer_content_loss * factor)\n",
    "    return tf.reduce_sum(content_losses)"
   ]
  },
  {
   "cell_type": "code",
   "execution_count": null,
   "id": "baa8d698-5974-4fd6-b14c-e598639652bc",
   "metadata": {},
   "outputs": [],
   "source": [
    "# Style 部分：\n",
    "\n",
    "# 核心工具：gram_matrix\n",
    "\n",
    "# 计算风格图片中的loss：我们使用格拉姆矩阵来计算风格loss"
   ]
  },
  {
   "cell_type": "code",
   "execution_count": null,
   "id": "e2796d17-4b22-49b8-9808-d216c9a3c8f8",
   "metadata": {},
   "outputs": [],
   "source": [
    "def gram_matrix(feature):\n",
    "    \"\"\"\n",
    "    计算给定特征的格拉姆矩阵\n",
    "    \"\"\"\n",
    "    # 先交换维度，把channel维度提到最前面\n",
    "    x = tf.transpose(feature, perm=[2, 0, 1])\n",
    "    # reshape，压缩成2d\n",
    "    x = tf.reshape(x, (x.shape[0], -1))\n",
    "    # 计算x和x的逆的乘积\n",
    "    return x @ tf.transpose(x)"
   ]
  },
  {
   "cell_type": "code",
   "execution_count": null,
   "id": "47509650-6ffc-445e-b44d-45cbedf53571",
   "metadata": {},
   "outputs": [],
   "source": [
    "# 单一图像：\n",
    "# \n",
    "# 计算并返回图片的风格loss\n",
    "# 计算指定层上两个特征之间的风格loss"
   ]
  },
  {
   "cell_type": "code",
   "execution_count": null,
   "id": "c4e0df31-c8e3-4934-927b-eea2d6b4103c",
   "metadata": {},
   "outputs": [],
   "source": [
    "def _compute_style_loss(noise_feature, target_feature):\n",
    "    \"\"\"\n",
    "    计算指定层上两个特征之间的风格loss\n",
    "    :param noise_feature: 噪声图片在指定层的特征\n",
    "    :param target_feature: 风格图片在指定层的特征\n",
    "    \"\"\"\n",
    "    noise_gram_matrix = gram_matrix(noise_feature)\n",
    "    style_gram_matrix = gram_matrix(target_feature)\n",
    "    style_loss = tf.reduce_sum(tf.square(noise_gram_matrix - style_gram_matrix))\n",
    "    # 计算系数\n",
    "    x = 4. * (M ** 2) * (N ** 2)\n",
    "    return style_loss / x"
   ]
  },
  {
   "cell_type": "code",
   "execution_count": null,
   "id": "f322a646-2fdc-428b-84d4-226109a94edb",
   "metadata": {},
   "outputs": [],
   "source": [
    "# 多张图像："
   ]
  },
  {
   "cell_type": "code",
   "execution_count": null,
   "id": "6c0fd74b-f69f-4b66-bb1a-82b451ef0992",
   "metadata": {},
   "outputs": [],
   "source": [
    "# 多张图像，所有权重相同：\n",
    "def compute_combined_style_features(style_images):\n",
    "    \"\"\"\n",
    "    合成多张风格图像的风格特征，假设所有权重相同\n",
    "    :param style_images: 风格图像列表\n",
    "    :return: 合成后的风格特征\n",
    "    \"\"\"\n",
    "    combined_style_features = []\n",
    "    \n",
    "    # 提取每张风格图像的风格特征\n",
    "    for style_image in style_images:\n",
    "        style_features = model([style_image])['style']  # 提取风格特征\n",
    "        combined_style_features.append(style_features)\n",
    "    \n",
    "    # 计算所有风格图像特征的平均值\n",
    "    combined_style_features = [tf.reduce_mean(tf.stack(features), axis=0) for features in zip(*combined_style_features)]\n",
    "    \n",
    "    return combined_style_features"
   ]
  },
  {
   "cell_type": "code",
   "execution_count": null,
   "id": "788c7ee5-9d9c-40a7-b295-28fbed68a2ea",
   "metadata": {},
   "outputs": [],
   "source": [
    "# # 多张图像，权重不同：\n",
    "\n",
    "# # 自选权重\n",
    "# style_weights = []\n",
    "\n",
    "# def compute_weighted_style_features(style_images, style_weights):\n",
    "#     \"\"\"\n",
    "#     合成多张风格图像的风格特征，并根据指定的权重进行加权\n",
    "#     :param style_images: 风格图像列表\n",
    "#     :param style_weights: 风格图像对应的权重列表\n",
    "#     :return: 合成后的加权风格特征\n",
    "#     \"\"\"\n",
    "#     weighted_style_features = []\n",
    "    \n",
    "#     # 提取每张风格图像的风格特征\n",
    "#     for style_image in style_images:\n",
    "#         style_features = model([style_image])['style']  # 提取风格特征\n",
    "#         weighted_style_features.append(style_features)\n",
    "    \n",
    "#     # 对每一层的特征进行加权\n",
    "#     weighted_combined_style_features = []\n",
    "#     for features_at_layer in zip(*weighted_style_features):\n",
    "#         weighted_features_at_layer = [features * weight for features, weight in zip(features_at_layer, style_weights)]\n",
    "#         weighted_combined_style_features.append(tf.reduce_sum(tf.stack(weighted_features_at_layer), axis=0))\n",
    "    \n",
    "#     return weighted_combined_style_features\n",
    "\n",
    "# # 在多张照片且权重不同的情况下，计算风格图片中的loss，weighted_style_features会被用在后面的计算中，具体在compute_style_loss函数中\n",
    "# weighted_style_features = compute_weighted_style_features(style_images, style_weights)"
   ]
  },
  {
   "cell_type": "code",
   "execution_count": null,
   "id": "fe98d98e-9f94-4738-8c73-eed9ce52d2f3",
   "metadata": {},
   "outputs": [],
   "source": [
    "# 单一图像的 Style Loss 计算"
   ]
  },
  {
   "cell_type": "code",
   "execution_count": null,
   "id": "ad61f8b8-1f0e-4235-af9b-dbd31e18d1e0",
   "metadata": {},
   "outputs": [],
   "source": [
    "# def compute_style_loss(noise_style_features):\n",
    "#     \"\"\"\n",
    "#     计算并返回图片的风格loss\n",
    "#     :param noise_style_features: 噪声图片的风格特征\n",
    "#     \"\"\"\n",
    "#     style_losses = []\n",
    "#     for (noise_feature, factor), (target_feature, _) in zip(noise_style_features, target_style_features):\n",
    "#         layer_style_loss = _compute_style_loss(noise_feature, target_feature)\n",
    "#         style_losses.append(layer_style_loss * factor)\n",
    "#     return tf.reduce_sum(style_losses)"
   ]
  },
  {
   "cell_type": "code",
   "execution_count": null,
   "id": "875a0969-e553-4580-9a96-46a3be730473",
   "metadata": {},
   "outputs": [],
   "source": [
    "# 多个图像的 Style Loss 计算"
   ]
  },
  {
   "cell_type": "code",
   "execution_count": null,
   "id": "e49917dd-5843-4689-9393-61fb4433d2a6",
   "metadata": {},
   "outputs": [],
   "source": [
    "# def compute_weighted_style_loss(noise_style_features):\n",
    "#     style_losses = []\n",
    "#     for (noise_feature, factor), (target_features, _) in zip(noise_style_features, target_style_features):\n",
    "#         # 对每一层的风格特征计算损失\n",
    "#         layer_style_loss = 0\n",
    "#         for noise_feat, target_feat in zip(noise_feature, target_features):\n",
    "#             layer_style_loss += _compute_style_loss(noise_feat, target_feat)\n",
    "#         style_losses.append(layer_style_loss * factor)\n",
    "#     return tf.reduce_sum(style_losses)"
   ]
  },
  {
   "cell_type": "code",
   "execution_count": null,
   "id": "09e447ba-2432-40e0-b477-c77d77464ed3",
   "metadata": {},
   "outputs": [],
   "source": [
    "def compute_weighted_style_loss(noise_style_features):\n",
    "    \"\"\"\n",
    "    计算加权风格损失\n",
    "    \"\"\"\n",
    "    style_losses = []\n",
    "    # 对每个风格特征层计算损失\n",
    "    for (noise_feature, factor) in noise_style_features:\n",
    "        layer_style_loss = 0\n",
    "        # 对每个风格图片计算损失\n",
    "        for target_style_feature in target_style_features:\n",
    "            target_feature = target_style_feature[len(style_losses)][0]  # 获取对应层的特征\n",
    "            layer_style_loss += _compute_style_loss(noise_feature, target_feature)\n",
    "        # 取平均值\n",
    "        layer_style_loss /= len(target_style_features)\n",
    "        style_losses.append(layer_style_loss * factor)\n",
    "    return tf.reduce_sum(style_losses)\n",
    "\n",
    "# 计算总损失\n",
    "# Content Loss 和 Style Loss 的加权和就是我们的总Loss\n",
    "def total_loss(noise_features):\n",
    "    \"\"\"\n",
    "    计算总损失\n",
    "    :param noise_features: 噪声图片特征数据\n",
    "    \"\"\"\n",
    "    content_loss = compute_content_loss(noise_features['content'])\n",
    "\n",
    "    # 单一图像\n",
    "    # style_loss = compute_style_loss(noise_features['style']) \n",
    "\n",
    "    # 多张图像\n",
    "    style_loss = compute_weighted_style_loss(noise_features['style']) \n",
    "\n",
    "    return content_loss * settings.CONTENT_LOSS_FACTOR + style_loss * settings.STYLE_LOSS_FACTOR"
   ]
  },
  {
   "cell_type": "code",
   "execution_count": null,
   "id": "fec4147c-acd2-48cc-8986-b75b93222eeb",
   "metadata": {},
   "outputs": [],
   "source": [
    "# 使用Adma优化器\n",
    "optimizer = tf.keras.optimizers.Adam(settings.LEARNING_RATE)\n",
    "\n",
    "# 基于内容图片随机生成一张噪声图片\n",
    "noise_image = tf.Variable((content_image + np.random.uniform(-0.2, 0.2, (1, settings.HEIGHT, settings.WIDTH, 3))) / 2)"
   ]
  },
  {
   "cell_type": "code",
   "execution_count": null,
   "id": "08ba51db-9347-44cd-bc45-c164fc9bc11e",
   "metadata": {},
   "outputs": [],
   "source": [
    "# 使用tf.function加速训练\n",
    "@tf.function\n",
    "def train_one_step():\n",
    "    \"\"\"\n",
    "    一次迭代过程\n",
    "    \"\"\"\n",
    "    # 求loss\n",
    "    with tf.GradientTape() as tape:\n",
    "        noise_outputs = model(noise_image)\n",
    "        loss = total_loss(noise_outputs)\n",
    "    # 求梯度\n",
    "    grad = tape.gradient(loss, noise_image)\n",
    "    # 梯度下降，更新噪声图片\n",
    "    optimizer.apply_gradients([(grad, noise_image)])\n",
    "    return loss"
   ]
  },
  {
   "cell_type": "code",
   "execution_count": null,
   "id": "a3d6478d-1982-48ed-ba03-c91c6f940da0",
   "metadata": {},
   "outputs": [],
   "source": [
    "# main.py中添加噪声控制\n",
    "noise_image = tf.Variable((content_image + np.random.uniform(-0.1, 0.1, (1, settings.HEIGHT, settings.WIDTH, 3))) / 2)  # 减小噪声范围\n",
    "\n",
    "# 添加图像预处理\n",
    "def preprocess_image(image):\n",
    "    # 增加对比度\n",
    "    image = tf.image.adjust_contrast(image, 1.2)\n",
    "    # 保持图像值在合理范围内\n",
    "    return tf.clip_by_value(image, 0.0, 1.0)\n",
    "\n",
    "def enhance_image_features(image):\n",
    "    \"\"\"增强图像特征\"\"\"\n",
    "    # 增加对比度\n",
    "    image = tf.image.adjust_contrast(image, 1.3)\n",
    "    # 增加锐度\n",
    "    image = tf.image.adjust_saturation(image, 1.2)\n",
    "    # 值域裁剪\n",
    "    return tf.clip_by_value(image, 0.0, 1.0)\n",
    "\n",
    "# 修改噪声生成\n",
    "noise_image = tf.Variable((content_image + np.random.uniform(-0.1, 0.1, (1, settings.HEIGHT, settings.WIDTH, 3))) / 2)\n",
    "# 如果没有文件夹的话就创建保存生成图片的文件夹\n",
    "if not os.path.exists(settings.OUTPUT_DIR):\n",
    "    os.mkdir(settings.OUTPUT_DIR)\n",
    "\n",
    "# 共训练  settings.EPOCHS  个epochs，慢慢在setting里面调整\n",
    "for epoch in range(settings.EPOCHS):\n",
    "    # 使用tqdm提示训练进度\n",
    "    with tqdm(total=settings.STEPS_PER_EPOCH, desc='Epoch {}/{}'.format(epoch + 1, settings.EPOCHS)) as pbar:\n",
    "        # 每个epoch训练  settings.STEPS_PER_EPOCH  次\n",
    "        for step in range(settings.STEPS_PER_EPOCH):\n",
    "            _loss = train_one_step()\n",
    "            pbar.set_postfix({'loss': '%.4f' % float(_loss)})\n",
    "            pbar.update(1)\n",
    "        # 每个epoch保存一次图片,记住每个照片都要看一下，看看里面的噪声有没有减少，防止过拟合\n",
    "        utils.save_image(noise_image, '{}/{}.jpg'.format(settings.OUTPUT_DIR, epoch + 1))"
   ]
  }
 ],
 "metadata": {
  "kernelspec": {
   "display_name": "Python 3 (ipykernel)",
   "language": "python",
   "name": "python3"
  },
  "language_info": {
   "codemirror_mode": {
    "name": "ipython",
    "version": 3
   },
   "file_extension": ".py",
   "mimetype": "text/x-python",
   "name": "python",
   "nbconvert_exporter": "python",
   "pygments_lexer": "ipython3",
   "version": "3.12.7"
  }
 },
 "nbformat": 4,
 "nbformat_minor": 5
}
